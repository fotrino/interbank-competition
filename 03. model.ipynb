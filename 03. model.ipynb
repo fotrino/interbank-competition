{
 "cells": [
  {
   "cell_type": "markdown",
   "metadata": {
    "papermill": {
     "duration": 0.006423,
     "end_time": "2021-02-11T01:07:34.302847",
     "exception": false,
     "start_time": "2021-02-11T01:07:34.296424",
     "status": "completed"
    },
    "tags": []
   },
   "source": [
    "## Modelado Interbank"
   ]
  },
  {
   "cell_type": "code",
   "execution_count": 1,
   "metadata": {
    "_cell_guid": "b1076dfc-b9ad-4769-8c92-a6c4dae69d19",
    "_uuid": "8f2839f25d086af736a60e9eeb907d3b93b6e0e5",
    "execution": {
     "iopub.execute_input": "2021-02-11T01:07:34.318124Z",
     "iopub.status.busy": "2021-02-11T01:07:34.317200Z",
     "iopub.status.idle": "2021-02-11T01:07:35.447804Z",
     "shell.execute_reply": "2021-02-11T01:07:35.447064Z"
    },
    "papermill": {
     "duration": 1.138875,
     "end_time": "2021-02-11T01:07:35.448026",
     "exception": false,
     "start_time": "2021-02-11T01:07:34.309151",
     "status": "completed"
    },
    "tags": []
   },
   "outputs": [
    {
     "data": {
      "text/html": [
       "<style type='text/css'>\n",
       ".datatable table.frame { margin-bottom: 0; }\n",
       ".datatable table.frame thead { border-bottom: none; }\n",
       ".datatable table.frame tr.coltypes td {  color: #FFFFFF;  line-height: 6px;  padding: 0 0.5em;}\n",
       ".datatable .bool    { background: #DDDD99; }\n",
       ".datatable .object  { background: #565656; }\n",
       ".datatable .int     { background: #5D9E5D; }\n",
       ".datatable .float   { background: #4040CC; }\n",
       ".datatable .str     { background: #CC4040; }\n",
       ".datatable .row_index {  background: var(--jp-border-color3);  border-right: 1px solid var(--jp-border-color0);  color: var(--jp-ui-font-color3);  font-size: 9px;}\n",
       ".datatable .frame tr.coltypes .row_index {  background: var(--jp-border-color0);}\n",
       ".datatable th:nth-child(2) { padding-left: 12px; }\n",
       ".datatable .hellipsis {  color: var(--jp-cell-editor-border-color);}\n",
       ".datatable .vellipsis {  background: var(--jp-layout-color0);  color: var(--jp-cell-editor-border-color);}\n",
       ".datatable .na {  color: var(--jp-cell-editor-border-color);  font-size: 80%;}\n",
       ".datatable .footer { font-size: 9px; }\n",
       ".datatable .frame_dimensions {  background: var(--jp-border-color3);  border-top: 1px solid var(--jp-border-color0);  color: var(--jp-ui-font-color3);  display: inline-block;  opacity: 0.6;  padding: 1px 10px 1px 5px;}\n",
       "</style>\n"
      ],
      "text/plain": [
       "<IPython.core.display.HTML object>"
      ]
     },
     "metadata": {},
     "output_type": "display_data"
    }
   ],
   "source": [
    "import pandas as pd\n",
    "import lightgbm as lgb\n",
    "import numpy as np\n",
    "from sklearn.metrics import roc_auc_score\n",
    "from sklearn.model_selection import KFold\n",
    "import warnings\n",
    "warnings.filterwarnings('ignore')"
   ]
  },
  {
   "cell_type": "markdown",
   "metadata": {
    "papermill": {
     "duration": 0.00546,
     "end_time": "2021-02-11T01:07:35.459950",
     "exception": false,
     "start_time": "2021-02-11T01:07:35.454490",
     "status": "completed"
    },
    "tags": []
   },
   "source": [
    "> ### Carga de datos"
   ]
  },
  {
   "cell_type": "code",
   "execution_count": 2,
   "metadata": {
    "execution": {
     "iopub.execute_input": "2021-02-11T01:07:35.475917Z",
     "iopub.status.busy": "2021-02-11T01:07:35.475266Z",
     "iopub.status.idle": "2021-02-11T01:09:16.419475Z",
     "shell.execute_reply": "2021-02-11T01:09:16.420108Z"
    },
    "papermill": {
     "duration": 100.953609,
     "end_time": "2021-02-11T01:09:16.420329",
     "exception": false,
     "start_time": "2021-02-11T01:07:35.466720",
     "status": "completed"
    },
    "tags": []
   },
   "outputs": [],
   "source": [
    "train   = pd.read_csv('../input/pre-procesamiento-interbank/train-v20.gz', index_col = 'key_value')\n",
    "y_train = pd.read_csv('../input/interbank20/y_train.csv', index_col = 'key_value').target\n",
    "test    = pd.read_csv('../input/pre-procesamiento-interbank/test-v20.gz', index_col = 'key_value')"
   ]
  },
  {
   "cell_type": "code",
   "execution_count": 3,
   "metadata": {
    "execution": {
     "iopub.execute_input": "2021-02-11T01:09:16.442156Z",
     "iopub.status.busy": "2021-02-11T01:09:16.441508Z",
     "iopub.status.idle": "2021-02-11T01:09:29.788968Z",
     "shell.execute_reply": "2021-02-11T01:09:29.788272Z"
    },
    "papermill": {
     "duration": 13.362482,
     "end_time": "2021-02-11T01:09:29.789114",
     "exception": false,
     "start_time": "2021-02-11T01:09:16.426632",
     "status": "completed"
    },
    "tags": []
   },
   "outputs": [],
   "source": [
    "cat_feats = ['sexo', \n",
    "             'est_cvl', \n",
    "             'sit_lab', \n",
    "             'cod_ocu', \n",
    "             'flg_sin_email', \n",
    "             'lgr_vot', \n",
    "             'prv', \n",
    "             'dto', \n",
    "             'rgn', \n",
    "             'tip_lvledu', \n",
    "             'pred', \n",
    "             'flag_censo'\n",
    "            ]\n",
    "\n",
    "for j in cat_feats:\n",
    "    train[j] = pd.Categorical(train[j])\n",
    "    test[j]  = pd.Categorical(test[j])"
   ]
  },
  {
   "cell_type": "code",
   "execution_count": 4,
   "metadata": {
    "execution": {
     "iopub.execute_input": "2021-02-11T01:09:29.806702Z",
     "iopub.status.busy": "2021-02-11T01:09:29.806093Z",
     "iopub.status.idle": "2021-02-11T01:09:29.819289Z",
     "shell.execute_reply": "2021-02-11T01:09:29.818739Z"
    },
    "papermill": {
     "duration": 0.024119,
     "end_time": "2021-02-11T01:09:29.819441",
     "exception": false,
     "start_time": "2021-02-11T01:09:29.795322",
     "status": "completed"
    },
    "tags": []
   },
   "outputs": [],
   "source": [
    "nfolds = 5\n",
    "folds  = [train.index[t] for t, v in KFold(nfolds).split(train)]"
   ]
  },
  {
   "cell_type": "markdown",
   "metadata": {
    "papermill": {
     "duration": 0.005958,
     "end_time": "2021-02-11T01:09:29.831907",
     "exception": false,
     "start_time": "2021-02-11T01:09:29.825949",
     "status": "completed"
    },
    "tags": []
   },
   "source": [
    "## Entrenamiento de Modelo"
   ]
  },
  {
   "cell_type": "code",
   "execution_count": 5,
   "metadata": {
    "execution": {
     "iopub.execute_input": "2021-02-11T01:09:29.849754Z",
     "iopub.status.busy": "2021-02-11T01:09:29.848838Z",
     "iopub.status.idle": "2021-02-11T01:09:29.852259Z",
     "shell.execute_reply": "2021-02-11T01:09:29.851671Z"
    },
    "papermill": {
     "duration": 0.014274,
     "end_time": "2021-02-11T01:09:29.852405",
     "exception": false,
     "start_time": "2021-02-11T01:09:29.838131",
     "status": "completed"
    },
    "tags": []
   },
   "outputs": [],
   "source": [
    "params = {\n",
    "    'n_estimators'          : 5000,\n",
    "    'learning_rate'         : 0.05,\n",
    "    'min_child_samples'     : 2430,\n",
    "    'min_split_gain'        : 0.750601181,\n",
    "    'min_child_weight'      : 0.006158102,\n",
    "    'bagging_fraction'      : 0.886441103, \n",
    "    'feature_fraction'      : 0.162094841,\n",
    "    'metric'                : 'auc', \n",
    "    'verbose'               : -1,\n",
    "    'early_stopping_rounds' : 150,\n",
    "    'objective'             : 'binary',\n",
    "}"
   ]
  },
  {
   "cell_type": "code",
   "execution_count": 6,
   "metadata": {
    "execution": {
     "iopub.execute_input": "2021-02-11T01:09:29.872538Z",
     "iopub.status.busy": "2021-02-11T01:09:29.871463Z",
     "iopub.status.idle": "2021-02-11T01:33:29.795752Z",
     "shell.execute_reply": "2021-02-11T01:33:29.796551Z"
    },
    "papermill": {
     "duration": 1439.938211,
     "end_time": "2021-02-11T01:33:29.796822",
     "exception": false,
     "start_time": "2021-02-11T01:09:29.858611",
     "status": "completed"
    },
    "tags": []
   },
   "outputs": [
    {
     "name": "stdout",
     "output_type": "stream",
     "text": [
      "----------------------------------------------------- Fold: 1\n",
      "Training until validation scores don't improve for 150 rounds\n",
      "[100]\tvalid_0's auc: 0.850003\n",
      "[200]\tvalid_0's auc: 0.857281\n",
      "[300]\tvalid_0's auc: 0.859894\n",
      "[400]\tvalid_0's auc: 0.861249\n",
      "[500]\tvalid_0's auc: 0.862022\n",
      "[600]\tvalid_0's auc: 0.862452\n",
      "[700]\tvalid_0's auc: 0.862629\n",
      "[800]\tvalid_0's auc: 0.862827\n",
      "[900]\tvalid_0's auc: 0.862832\n",
      "[1000]\tvalid_0's auc: 0.862857\n",
      "Early stopping, best iteration is:\n",
      "[917]\tvalid_0's auc: 0.862885\n",
      "----------------------------------------------------- Fold: 2\n",
      "Training until validation scores don't improve for 150 rounds\n",
      "[100]\tvalid_0's auc: 0.848775\n",
      "[200]\tvalid_0's auc: 0.856717\n",
      "[300]\tvalid_0's auc: 0.859848\n",
      "[400]\tvalid_0's auc: 0.861561\n",
      "[500]\tvalid_0's auc: 0.862354\n",
      "[600]\tvalid_0's auc: 0.862897\n",
      "[700]\tvalid_0's auc: 0.863154\n",
      "[800]\tvalid_0's auc: 0.863317\n",
      "[900]\tvalid_0's auc: 0.863323\n",
      "[1000]\tvalid_0's auc: 0.86343\n",
      "[1100]\tvalid_0's auc: 0.863423\n",
      "[1200]\tvalid_0's auc: 0.863434\n",
      "Early stopping, best iteration is:\n",
      "[1077]\tvalid_0's auc: 0.863472\n",
      "----------------------------------------------------- Fold: 3\n",
      "Training until validation scores don't improve for 150 rounds\n",
      "[100]\tvalid_0's auc: 0.851311\n",
      "[200]\tvalid_0's auc: 0.858212\n",
      "[300]\tvalid_0's auc: 0.860945\n",
      "[400]\tvalid_0's auc: 0.862284\n",
      "[500]\tvalid_0's auc: 0.863092\n",
      "[600]\tvalid_0's auc: 0.863609\n",
      "[700]\tvalid_0's auc: 0.863904\n",
      "[800]\tvalid_0's auc: 0.864069\n",
      "[900]\tvalid_0's auc: 0.864167\n",
      "[1000]\tvalid_0's auc: 0.864292\n",
      "[1100]\tvalid_0's auc: 0.864259\n",
      "Early stopping, best iteration is:\n",
      "[1019]\tvalid_0's auc: 0.864306\n",
      "----------------------------------------------------- Fold: 4\n",
      "Training until validation scores don't improve for 150 rounds\n",
      "[100]\tvalid_0's auc: 0.846919\n",
      "[200]\tvalid_0's auc: 0.85549\n",
      "[300]\tvalid_0's auc: 0.858864\n",
      "[400]\tvalid_0's auc: 0.860316\n",
      "[500]\tvalid_0's auc: 0.861279\n",
      "[600]\tvalid_0's auc: 0.861582\n",
      "[700]\tvalid_0's auc: 0.861845\n",
      "[800]\tvalid_0's auc: 0.861894\n",
      "[900]\tvalid_0's auc: 0.861924\n",
      "Early stopping, best iteration is:\n",
      "[782]\tvalid_0's auc: 0.861974\n",
      "----------------------------------------------------- Fold: 5\n",
      "Training until validation scores don't improve for 150 rounds\n",
      "[100]\tvalid_0's auc: 0.840398\n",
      "[200]\tvalid_0's auc: 0.847748\n",
      "[300]\tvalid_0's auc: 0.85087\n",
      "[400]\tvalid_0's auc: 0.852137\n",
      "[500]\tvalid_0's auc: 0.852687\n",
      "[600]\tvalid_0's auc: 0.852978\n",
      "[700]\tvalid_0's auc: 0.853267\n",
      "[800]\tvalid_0's auc: 0.853352\n",
      "[900]\tvalid_0's auc: 0.853411\n",
      "[1000]\tvalid_0's auc: 0.853555\n",
      "[1100]\tvalid_0's auc: 0.853478\n",
      "Early stopping, best iteration is:\n",
      "[1010]\tvalid_0's auc: 0.853584\n",
      "\n",
      "CV AUC Estimado: 0.8612808377464067\n",
      "CPU times: user 1h 30min 45s, sys: 24.2 s, total: 1h 31min 10s\n",
      "Wall time: 23min 59s\n"
     ]
    }
   ],
   "source": [
    "%%time\n",
    "\n",
    "train_probs = []\n",
    "test_probs  = []\n",
    "\n",
    "for i, idx in enumerate(folds):\n",
    "    val_idx = train.drop(idx).index\n",
    "    print('-'*53, f'Fold: {i + 1}')\n",
    "    Xt = lgb.Dataset(train.loc[idx].values, \n",
    "                     label = y_train.loc[idx].values)\n",
    "        \n",
    "    Xv = lgb.Dataset(train.loc[val_idx].values, \n",
    "                     label = y_train.loc[val_idx].values)\n",
    "                     \n",
    "    learner = lgb.train(params, Xt, valid_sets = [Xv], verbose_eval = 100)\n",
    "    \n",
    "    train_probs.append(pd.Series(learner.predict(train.loc[val_idx].values), index = train.loc[val_idx].index, name = 'probs'))\n",
    "    test_probs.append(pd.Series(learner.predict(test), index = test.index, name = 'fold_' + str(i)))\n",
    "\n",
    "train_probs = pd.concat(train_probs)\n",
    "test_probs = pd.concat(test_probs, axis = 1).mean(axis = 1)\n",
    "score = roc_auc_score(y_train, train_probs.loc[y_train.index])\n",
    "print(f\"\\nCV AUC Estimado: {score}\")"
   ]
  },
  {
   "cell_type": "code",
   "execution_count": 7,
   "metadata": {
    "execution": {
     "iopub.execute_input": "2021-02-11T01:33:29.849498Z",
     "iopub.status.busy": "2021-02-11T01:33:29.848547Z",
     "iopub.status.idle": "2021-02-11T01:33:30.853987Z",
     "shell.execute_reply": "2021-02-11T01:33:30.853375Z"
    },
    "papermill": {
     "duration": 1.032771,
     "end_time": "2021-02-11T01:33:30.854199",
     "exception": false,
     "start_time": "2021-02-11T01:33:29.821428",
     "status": "completed"
    },
    "tags": []
   },
   "outputs": [],
   "source": [
    "test_probs.name = 'target'\n",
    "test_probs.to_csv('benchmark_t.csv')"
   ]
  }
 ],
 "metadata": {
  "kernelspec": {
   "display_name": "Python 3",
   "language": "python",
   "name": "python3"
  },
  "language_info": {
   "codemirror_mode": {
    "name": "ipython",
    "version": 3
   },
   "file_extension": ".py",
   "mimetype": "text/x-python",
   "name": "python",
   "nbconvert_exporter": "python",
   "pygments_lexer": "ipython3",
   "version": "3.7.9"
  },
  "papermill": {
   "default_parameters": {},
   "duration": 1562.814674,
   "end_time": "2021-02-11T01:33:31.587812",
   "environment_variables": {},
   "exception": null,
   "input_path": "__notebook__.ipynb",
   "output_path": "__notebook__.ipynb",
   "parameters": {},
   "start_time": "2021-02-11T01:07:28.773138",
   "version": "2.2.2"
  }
 },
 "nbformat": 4,
 "nbformat_minor": 4
}
