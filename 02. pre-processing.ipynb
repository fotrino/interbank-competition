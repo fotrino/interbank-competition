{
 "cells": [
  {
   "cell_type": "markdown",
   "metadata": {
    "papermill": {
     "duration": 0.020244,
     "end_time": "2021-02-08T14:57:34.364686",
     "exception": false,
     "start_time": "2021-02-08T14:57:34.344442",
     "status": "completed"
    },
    "tags": []
   },
   "source": [
    "### V19: RCC (team + rafa) + SE + CENSO (team v2)"
   ]
  },
  {
   "cell_type": "code",
   "execution_count": 1,
   "metadata": {
    "_cell_guid": "b1076dfc-b9ad-4769-8c92-a6c4dae69d19",
    "_uuid": "8f2839f25d086af736a60e9eeb907d3b93b6e0e5",
    "execution": {
     "iopub.execute_input": "2021-02-08T14:57:34.406646Z",
     "iopub.status.busy": "2021-02-08T14:57:34.405876Z",
     "iopub.status.idle": "2021-02-08T14:57:34.409946Z",
     "shell.execute_reply": "2021-02-08T14:57:34.410609Z"
    },
    "papermill": {
     "duration": 0.026509,
     "end_time": "2021-02-08T14:57:34.410808",
     "exception": false,
     "start_time": "2021-02-08T14:57:34.384299",
     "status": "completed"
    },
    "tags": []
   },
   "outputs": [],
   "source": [
    "import pandas as pd\n",
    "import re\n",
    "import gc"
   ]
  },
  {
   "cell_type": "code",
   "execution_count": 2,
   "metadata": {
    "execution": {
     "iopub.execute_input": "2021-02-08T14:57:34.451592Z",
     "iopub.status.busy": "2021-02-08T14:57:34.450859Z",
     "iopub.status.idle": "2021-02-08T14:57:34.457328Z",
     "shell.execute_reply": "2021-02-08T14:57:34.457968Z"
    },
    "papermill": {
     "duration": 0.028684,
     "end_time": "2021-02-08T14:57:34.458139",
     "exception": false,
     "start_time": "2021-02-08T14:57:34.429455",
     "status": "completed"
    },
    "tags": []
   },
   "outputs": [],
   "source": [
    "def keep_matching_cols(df1, df2):\n",
    "    keep_cols = list(set(df1.columns).intersection(set(df2.columns)))\n",
    "    df1 = df1[keep_cols]\n",
    "    df2 = df2[keep_cols]\n",
    "    print(len(set(df1.columns) - set(df2.columns)) , len(set(df2.columns) - set(df1.columns)))\n",
    "    return df1, df2"
   ]
  },
  {
   "cell_type": "markdown",
   "metadata": {
    "papermill": {
     "duration": 0.018483,
     "end_time": "2021-02-08T14:57:34.495465",
     "exception": false,
     "start_time": "2021-02-08T14:57:34.476982",
     "status": "completed"
    },
    "tags": []
   },
   "source": [
    "### Pre-Procesamiento RCC"
   ]
  },
  {
   "cell_type": "code",
   "execution_count": 3,
   "metadata": {
    "_cell_guid": "79c7e3d0-c299-4dcb-8224-4455121ee9b0",
    "_uuid": "d629ff2d2480ee46fbb7e2d37f6b5fab8052498a",
    "execution": {
     "iopub.execute_input": "2021-02-08T14:57:34.536097Z",
     "iopub.status.busy": "2021-02-08T14:57:34.535209Z",
     "iopub.status.idle": "2021-02-08T14:59:08.191273Z",
     "shell.execute_reply": "2021-02-08T14:59:08.190541Z"
    },
    "papermill": {
     "duration": 93.677703,
     "end_time": "2021-02-08T14:59:08.191451",
     "exception": false,
     "start_time": "2021-02-08T14:57:34.513748",
     "status": "completed"
    },
    "tags": []
   },
   "outputs": [],
   "source": [
    "rcc_train = pd.read_csv(\"/kaggle/input/interbank20/rcc_train.csv\")\n",
    "rcc_test = pd.read_csv(\"/kaggle/input/interbank20/rcc_test.csv\")"
   ]
  },
  {
   "cell_type": "code",
   "execution_count": 4,
   "metadata": {
    "execution": {
     "iopub.execute_input": "2021-02-08T14:59:08.258271Z",
     "iopub.status.busy": "2021-02-08T14:59:08.256732Z",
     "iopub.status.idle": "2021-02-08T14:59:09.540682Z",
     "shell.execute_reply": "2021-02-08T14:59:09.539618Z"
    },
    "papermill": {
     "duration": 1.323957,
     "end_time": "2021-02-08T14:59:09.540817",
     "exception": false,
     "start_time": "2021-02-08T14:59:08.216860",
     "status": "completed"
    },
    "tags": []
   },
   "outputs": [],
   "source": [
    "bins = [-1, 0, 10, 20, 30, 60, 90, 180, 360, 720, float(\"inf\")]\n",
    "rcc_train[\"condicion_bins\"] = pd.cut(rcc_train.condicion, bins)\n",
    "rcc_test[\"condicion_bins\"] = pd.cut(rcc_test.condicion, bins)"
   ]
  },
  {
   "cell_type": "code",
   "execution_count": 5,
   "metadata": {
    "execution": {
     "iopub.execute_input": "2021-02-08T14:59:09.587356Z",
     "iopub.status.busy": "2021-02-08T14:59:09.586315Z",
     "iopub.status.idle": "2021-02-08T14:59:09.589535Z",
     "shell.execute_reply": "2021-02-08T14:59:09.588995Z"
    },
    "papermill": {
     "duration": 0.030199,
     "end_time": "2021-02-08T14:59:09.589659",
     "exception": false,
     "start_time": "2021-02-08T14:59:09.559460",
     "status": "completed"
    },
    "tags": []
   },
   "outputs": [],
   "source": [
    "def makeCt(df, c, aggfunc=sum):\n",
    "    try:\n",
    "        ct = pd.crosstab(df.key_value, df[c].fillna(\"N/A\"), values=df.saldo, aggfunc=aggfunc)\n",
    "    except:\n",
    "        ct = pd.crosstab(df.key_value, df[c], values=df.saldo, aggfunc=aggfunc)\n",
    "    ct.columns = [f\"{c}_{aggfunc.__name__}_{v}\" for v in ct.columns]\n",
    "    return ct"
   ]
  },
  {
   "cell_type": "code",
   "execution_count": 6,
   "metadata": {
    "execution": {
     "iopub.execute_input": "2021-02-08T14:59:10.045577Z",
     "iopub.status.busy": "2021-02-08T14:59:10.043877Z",
     "iopub.status.idle": "2021-02-08T15:16:22.120111Z",
     "shell.execute_reply": "2021-02-08T15:16:22.119042Z"
    },
    "papermill": {
     "duration": 1032.511757,
     "end_time": "2021-02-08T15:16:22.120287",
     "exception": false,
     "start_time": "2021-02-08T14:59:09.608530",
     "status": "completed"
    },
    "tags": []
   },
   "outputs": [
    {
     "name": "stdout",
     "output_type": "stream",
     "text": [
      "haciendo tipo_credito\n",
      "haciendo cod_instit_financiera\n",
      "haciendo PRODUCTO\n",
      "haciendo RIESGO_DIRECTO\n",
      "haciendo COD_CLASIFICACION_DEUDOR\n",
      "haciendo condicion_bins\n"
     ]
    }
   ],
   "source": [
    "train = []\n",
    "test = []\n",
    "aggfuncs = [len, sum, min, max]\n",
    "for c in rcc_train.drop([\"codmes\", \"key_value\", \"saldo\", \"condicion\"], axis=1):\n",
    "    print(\"haciendo\", c)\n",
    "    train.extend([makeCt(rcc_train, c, aggfunc) for aggfunc in aggfuncs])\n",
    "    test.extend([makeCt(rcc_test, c, aggfunc) for aggfunc in aggfuncs])"
   ]
  },
  {
   "cell_type": "code",
   "execution_count": 7,
   "metadata": {
    "execution": {
     "iopub.execute_input": "2021-02-08T15:16:22.170303Z",
     "iopub.status.busy": "2021-02-08T15:16:22.169553Z",
     "iopub.status.idle": "2021-02-08T15:16:28.735628Z",
     "shell.execute_reply": "2021-02-08T15:16:28.735020Z"
    },
    "papermill": {
     "duration": 6.593627,
     "end_time": "2021-02-08T15:16:28.735751",
     "exception": false,
     "start_time": "2021-02-08T15:16:22.142124",
     "status": "completed"
    },
    "tags": []
   },
   "outputs": [],
   "source": [
    "train = pd.concat(train, axis=1)\n",
    "test = pd.concat(test, axis=1)"
   ]
  },
  {
   "cell_type": "code",
   "execution_count": 8,
   "metadata": {
    "execution": {
     "iopub.execute_input": "2021-02-08T15:16:28.849563Z",
     "iopub.status.busy": "2021-02-08T15:16:28.848872Z",
     "iopub.status.idle": "2021-02-08T15:16:28.851924Z",
     "shell.execute_reply": "2021-02-08T15:16:28.852476Z"
    },
    "papermill": {
     "duration": 0.096009,
     "end_time": "2021-02-08T15:16:28.852621",
     "exception": false,
     "start_time": "2021-02-08T15:16:28.756612",
     "status": "completed"
    },
    "tags": []
   },
   "outputs": [
    {
     "data": {
      "text/plain": [
       "40"
      ]
     },
     "execution_count": 8,
     "metadata": {},
     "output_type": "execute_result"
    }
   ],
   "source": [
    "gc.collect()"
   ]
  },
  {
   "cell_type": "code",
   "execution_count": 9,
   "metadata": {
    "execution": {
     "iopub.execute_input": "2021-02-08T15:16:28.898695Z",
     "iopub.status.busy": "2021-02-08T15:16:28.898021Z",
     "iopub.status.idle": "2021-02-08T15:16:34.278925Z",
     "shell.execute_reply": "2021-02-08T15:16:34.279417Z"
    },
    "papermill": {
     "duration": 5.405623,
     "end_time": "2021-02-08T15:16:34.279573",
     "exception": false,
     "start_time": "2021-02-08T15:16:28.873950",
     "status": "completed"
    },
    "tags": []
   },
   "outputs": [
    {
     "name": "stdout",
     "output_type": "stream",
     "text": [
      "0 0\n"
     ]
    }
   ],
   "source": [
    "train, test = keep_matching_cols(train, test)"
   ]
  },
  {
   "cell_type": "code",
   "execution_count": 10,
   "metadata": {
    "execution": {
     "iopub.execute_input": "2021-02-08T15:16:34.330959Z",
     "iopub.status.busy": "2021-02-08T15:16:34.329483Z",
     "iopub.status.idle": "2021-02-08T15:16:34.559449Z",
     "shell.execute_reply": "2021-02-08T15:16:34.558791Z"
    },
    "papermill": {
     "duration": 0.258016,
     "end_time": "2021-02-08T15:16:34.559580",
     "exception": false,
     "start_time": "2021-02-08T15:16:34.301564",
     "status": "completed"
    },
    "tags": []
   },
   "outputs": [],
   "source": [
    "test = test.rename(columns = lambda x:re.sub('[^A-Za-z0-9_-]+', '', x))\n",
    "train = train.rename(columns = lambda x:re.sub('[^A-Za-z0-9_-]+', '', x))"
   ]
  },
  {
   "cell_type": "code",
   "execution_count": 11,
   "metadata": {
    "execution": {
     "iopub.execute_input": "2021-02-08T15:16:34.624499Z",
     "iopub.status.busy": "2021-02-08T15:16:34.613434Z",
     "iopub.status.idle": "2021-02-08T15:16:34.629692Z",
     "shell.execute_reply": "2021-02-08T15:16:34.629099Z"
    },
    "papermill": {
     "duration": 0.048136,
     "end_time": "2021-02-08T15:16:34.629813",
     "exception": false,
     "start_time": "2021-02-08T15:16:34.581677",
     "status": "completed"
    },
    "tags": []
   },
   "outputs": [],
   "source": [
    "def pre_rcc(df):\n",
    "    agg_key_mes = {\n",
    "        'condicion_max'     : ('condicion', 'max'),\n",
    "        'condicion_menos30' : ('condicion', lambda x: int(x.max() <= 30)),\n",
    "        'condicion_menos60' : ('condicion', lambda x: int(x.max() <= 60 & x.max() > 30)),\n",
    "        'condicion_menos90' : ('condicion', lambda x: int(x.max() <= 90 & x.max() > 60)),\n",
    "        'condicion_mas90'   : ('condicion', lambda x: int(x.max() > 90)),\n",
    "        'ifinan_count'      : ('cod_instit_financiera', 'count'),\n",
    "        'rdirecto_max'      : ('RIESGO_DIRECTO', 'max'),\n",
    "        'cdeudor_max'       : ('COD_CLASIFICACION_DEUDOR', 'max'),\n",
    "        'saldo_sum'         : ('saldo', lambda x: x.abs().sum()),\n",
    "    }\n",
    "\n",
    "    agg_key = {\n",
    "        'condicion_max_count'     : ('condicion_max', 'cumsum'),\n",
    "        'condicion_menos30_count' : ('condicion_menos30', 'cumsum'),\n",
    "        'condicion_menos60_count' : ('condicion_menos60', 'cumsum'),\n",
    "        'condicion_menos90_count' : ('condicion_menos90', 'cumsum'),\n",
    "        'condicion_mas90_count'   : ('condicion_mas90', 'cumsum'), \n",
    "        'ifinan_count_sum'        : ('ifinan_count_diff', 'cumsum'), \n",
    "    }\n",
    "    \n",
    "    df.drop(columns=['tipo_credito', 'PRODUCTO'], inplace=True)\n",
    "    df['codmes'].replace(sorted(df.codmes.unique()), list(range(1,13)), inplace=True)\n",
    "\n",
    "    df = df.groupby(['key_value', 'codmes']).agg(**agg_key_mes).reset_index()\n",
    "\n",
    "    df['riesgo_diff']        = df.rdirecto_max ** 2 - df.cdeudor_max ** 2\n",
    "    df['condicion_max_diff'] = df.groupby(['key_value']).condicion_max.diff().fillna(df['condicion_max'])\n",
    "    df['ifinan_count_diff']  = df.groupby(['key_value']).ifinan_count.diff().abs().fillna(df['ifinan_count'])\n",
    "\n",
    "    df2 = df.groupby(['key_value']).agg(**agg_key)\n",
    "\n",
    "    df = pd.concat([df, df2], axis = 1).pivot(index = 'key_value', columns = 'codmes').reset_index().set_index('key_value')\n",
    "    \n",
    "    df.columns = [f'{f}_{s}' if s != '' else f'{f}'  for f, s in df.columns]    \n",
    "    \n",
    "    return df"
   ]
  },
  {
   "cell_type": "code",
   "execution_count": 12,
   "metadata": {
    "execution": {
     "iopub.execute_input": "2021-02-08T15:16:35.279781Z",
     "iopub.status.busy": "2021-02-08T15:16:35.175820Z",
     "iopub.status.idle": "2021-02-08T16:14:02.241449Z",
     "shell.execute_reply": "2021-02-08T16:14:02.240043Z"
    },
    "papermill": {
     "duration": 3447.589739,
     "end_time": "2021-02-08T16:14:02.241847",
     "exception": false,
     "start_time": "2021-02-08T15:16:34.652108",
     "status": "completed"
    },
    "tags": []
   },
   "outputs": [],
   "source": [
    "train = pre_rcc(rcc_train).join(train)\n",
    "test = pre_rcc(rcc_test).join(test)"
   ]
  },
  {
   "cell_type": "code",
   "execution_count": 13,
   "metadata": {
    "execution": {
     "iopub.execute_input": "2021-02-08T16:14:02.305483Z",
     "iopub.status.busy": "2021-02-08T16:14:02.304350Z",
     "iopub.status.idle": "2021-02-08T16:14:02.383158Z",
     "shell.execute_reply": "2021-02-08T16:14:02.382618Z"
    },
    "papermill": {
     "duration": 0.115848,
     "end_time": "2021-02-08T16:14:02.383300",
     "exception": false,
     "start_time": "2021-02-08T16:14:02.267452",
     "status": "completed"
    },
    "tags": []
   },
   "outputs": [
    {
     "data": {
      "text/plain": [
       "20"
      ]
     },
     "execution_count": 13,
     "metadata": {},
     "output_type": "execute_result"
    }
   ],
   "source": [
    "del rcc_train, rcc_test\n",
    "gc.collect()"
   ]
  },
  {
   "cell_type": "markdown",
   "metadata": {
    "papermill": {
     "duration": 0.022819,
     "end_time": "2021-02-08T16:14:02.429587",
     "exception": false,
     "start_time": "2021-02-08T16:14:02.406768",
     "status": "completed"
    },
    "tags": []
   },
   "source": [
    "### Pre-Procesamiento SUNAT"
   ]
  },
  {
   "cell_type": "code",
   "execution_count": 14,
   "metadata": {
    "_kg_hide-input": false,
    "execution": {
     "iopub.execute_input": "2021-02-08T16:14:02.486645Z",
     "iopub.status.busy": "2021-02-08T16:14:02.485872Z",
     "iopub.status.idle": "2021-02-08T16:14:09.239055Z",
     "shell.execute_reply": "2021-02-08T16:14:09.238119Z"
    },
    "papermill": {
     "duration": 6.786526,
     "end_time": "2021-02-08T16:14:09.239233",
     "exception": false,
     "start_time": "2021-02-08T16:14:02.452707",
     "status": "completed"
    },
    "tags": []
   },
   "outputs": [],
   "source": [
    "sunat_train = pd.read_csv(\"/kaggle/input/interbank20/sunat_train.csv\")\n",
    "sunat_test= pd.read_csv(\"/kaggle/input/interbank20/sunat_test.csv\")"
   ]
  },
  {
   "cell_type": "code",
   "execution_count": 15,
   "metadata": {
    "execution": {
     "iopub.execute_input": "2021-02-08T16:14:09.299914Z",
     "iopub.status.busy": "2021-02-08T16:14:09.298810Z",
     "iopub.status.idle": "2021-02-08T16:14:09.301861Z",
     "shell.execute_reply": "2021-02-08T16:14:09.302434Z"
    },
    "papermill": {
     "duration": 0.040106,
     "end_time": "2021-02-08T16:14:09.302596",
     "exception": false,
     "start_time": "2021-02-08T16:14:09.262490",
     "status": "completed"
    },
    "tags": []
   },
   "outputs": [],
   "source": [
    "def pre_sunat(df):\n",
    "    agg_key = {\n",
    "        'tipcontribuyente_count'    : ('tipcontribuyente', 'nunique'),\n",
    "        'tippersona_count'          : ('tippersona', 'nunique'),\n",
    "        'ciiu_count'                : ('ciiu', 'nunique'),\n",
    "        'ubigeo_count'              : ('ubigeo', 'nunique'),\n",
    "        'condiciondomicilio_count'  : ('condiciondomicilio', 'nunique'),       \n",
    "        'estadocontribuyente_count' : ('estadocontribuyente', 'nunique'),\n",
    "        'codvia_count'              : ('codvia', 'nunique'),\n",
    "        'codzona_count'             : ('codzona', 'nunique'),       \n",
    "        'contabilidad_count'        : ('contabilidad', 'nunique'),  \n",
    "        'facturacion_count'         : ('facturacion', 'nunique'),       \n",
    "        'domiciliado_count'         : ('domiciliado', 'nunique'),  \n",
    "        'comercioexterior_count'    : ('comercioexterior', 'nunique'),       \n",
    "        'cargorele_count'           : ('cargorele', 'nunique'),          \n",
    "        'codentidadtributo_count'   : ('codentidadtributo', 'nunique'),\n",
    "        'fecalta_min'               : ('fecalta', 'min'),\n",
    "        'actividad_vigente_flag'    : ('fecbaja', lambda x: int(x.isna().count() > 0)),        \n",
    "        'actividad_finalizada_flag' : ('fecbaja', lambda x: int(x.count() > 0)),       \n",
    "     }\n",
    "    \n",
    "    df1 = df.groupby(['key_value']).agg(**agg_key)\n",
    "    df1['actividad_count'] = df1.iloc[:, 6:14].sum(axis=1)\n",
    "    \n",
    "#     df2 = pd.crosstab(df.key_value, df.estadotributo).add_prefix('estadotributo_')\n",
    "#     df3 = pd.crosstab(df.key_value, df.ciiu).add_prefix('ciiu_')\n",
    "\n",
    "#     df = df1.join(df2).join(df3)\n",
    "    return df1"
   ]
  },
  {
   "cell_type": "code",
   "execution_count": 16,
   "metadata": {
    "execution": {
     "iopub.execute_input": "2021-02-08T16:14:09.360465Z",
     "iopub.status.busy": "2021-02-08T16:14:09.359393Z",
     "iopub.status.idle": "2021-02-08T16:15:32.125326Z",
     "shell.execute_reply": "2021-02-08T16:15:32.125895Z"
    },
    "papermill": {
     "duration": 82.800208,
     "end_time": "2021-02-08T16:15:32.126075",
     "exception": false,
     "start_time": "2021-02-08T16:14:09.325867",
     "status": "completed"
    },
    "tags": []
   },
   "outputs": [],
   "source": [
    "train = train.join(pre_sunat(sunat_train))\n",
    "test = test.join(pre_sunat(sunat_test))"
   ]
  },
  {
   "cell_type": "code",
   "execution_count": 17,
   "metadata": {
    "execution": {
     "iopub.execute_input": "2021-02-08T16:15:32.247191Z",
     "iopub.status.busy": "2021-02-08T16:15:32.246367Z",
     "iopub.status.idle": "2021-02-08T16:15:32.251215Z",
     "shell.execute_reply": "2021-02-08T16:15:32.250672Z"
    },
    "papermill": {
     "duration": 0.101666,
     "end_time": "2021-02-08T16:15:32.251340",
     "exception": false,
     "start_time": "2021-02-08T16:15:32.149674",
     "status": "completed"
    },
    "tags": []
   },
   "outputs": [
    {
     "data": {
      "text/plain": [
       "20"
      ]
     },
     "execution_count": 17,
     "metadata": {},
     "output_type": "execute_result"
    }
   ],
   "source": [
    "del sunat_train, sunat_test\n",
    "gc.collect()"
   ]
  },
  {
   "cell_type": "code",
   "execution_count": 18,
   "metadata": {
    "execution": {
     "iopub.execute_input": "2021-02-08T16:15:32.306556Z",
     "iopub.status.busy": "2021-02-08T16:15:32.305883Z",
     "iopub.status.idle": "2021-02-08T16:15:35.592966Z",
     "shell.execute_reply": "2021-02-08T16:15:35.593509Z"
    },
    "papermill": {
     "duration": 3.317714,
     "end_time": "2021-02-08T16:15:35.593678",
     "exception": false,
     "start_time": "2021-02-08T16:15:32.275964",
     "status": "completed"
    },
    "tags": []
   },
   "outputs": [
    {
     "name": "stdout",
     "output_type": "stream",
     "text": [
      "0 0\n"
     ]
    }
   ],
   "source": [
    "train, test = keep_matching_cols(train, test)"
   ]
  },
  {
   "cell_type": "markdown",
   "metadata": {
    "papermill": {
     "duration": 0.024093,
     "end_time": "2021-02-08T16:15:35.642706",
     "exception": false,
     "start_time": "2021-02-08T16:15:35.618613",
     "status": "completed"
    },
    "tags": []
   },
   "source": [
    "### Incluir SE & Censo"
   ]
  },
  {
   "cell_type": "code",
   "execution_count": 19,
   "metadata": {
    "execution": {
     "iopub.execute_input": "2021-02-08T16:15:35.704421Z",
     "iopub.status.busy": "2021-02-08T16:15:35.703643Z",
     "iopub.status.idle": "2021-02-08T16:16:22.493400Z",
     "shell.execute_reply": "2021-02-08T16:16:22.492325Z"
    },
    "papermill": {
     "duration": 46.825893,
     "end_time": "2021-02-08T16:16:22.493547",
     "exception": false,
     "start_time": "2021-02-08T16:15:35.667654",
     "status": "completed"
    },
    "tags": []
   },
   "outputs": [],
   "source": [
    "se_train = pd.read_csv(\"/kaggle/input/interbank20/se_train.csv\", index_col=\"key_value\")\n",
    "se_test = pd.read_csv(\"/kaggle/input/interbank20/se_test.csv\", index_col=\"key_value\")\n",
    "censo_train = pd.read_csv(\"/kaggle/input/interbank20/censo_train.csv\", index_col=\"key_value\")\n",
    "censo_test = pd.read_csv(\"/kaggle/input/interbank20/censo_test.csv\", index_col=\"key_value\")"
   ]
  },
  {
   "cell_type": "code",
   "execution_count": 20,
   "metadata": {
    "execution": {
     "iopub.execute_input": "2021-02-08T16:16:22.569505Z",
     "iopub.status.busy": "2021-02-08T16:16:22.558281Z",
     "iopub.status.idle": "2021-02-08T16:16:22.573064Z",
     "shell.execute_reply": "2021-02-08T16:16:22.572514Z"
    },
    "papermill": {
     "duration": 0.054562,
     "end_time": "2021-02-08T16:16:22.573206",
     "exception": false,
     "start_time": "2021-02-08T16:16:22.518644",
     "status": "completed"
    },
    "tags": []
   },
   "outputs": [],
   "source": [
    "se_train.drop(columns=['cod_ubi'], inplace=True)\n",
    "se_test.drop(columns=['cod_ubi'], inplace=True)"
   ]
  },
  {
   "cell_type": "code",
   "execution_count": 21,
   "metadata": {
    "execution": {
     "iopub.execute_input": "2021-02-08T16:16:22.628220Z",
     "iopub.status.busy": "2021-02-08T16:16:22.627522Z",
     "iopub.status.idle": "2021-02-08T16:16:28.120698Z",
     "shell.execute_reply": "2021-02-08T16:16:28.119976Z"
    },
    "papermill": {
     "duration": 5.523011,
     "end_time": "2021-02-08T16:16:28.120827",
     "exception": false,
     "start_time": "2021-02-08T16:16:22.597816",
     "status": "completed"
    },
    "tags": []
   },
   "outputs": [],
   "source": [
    "train = train.join(se_train).join(censo_train)\n",
    "test = test.join(se_test).join(censo_test)"
   ]
  },
  {
   "cell_type": "code",
   "execution_count": 22,
   "metadata": {
    "execution": {
     "iopub.execute_input": "2021-02-08T16:16:28.247810Z",
     "iopub.status.busy": "2021-02-08T16:16:28.247100Z",
     "iopub.status.idle": "2021-02-08T16:16:28.252018Z",
     "shell.execute_reply": "2021-02-08T16:16:28.251333Z"
    },
    "papermill": {
     "duration": 0.10451,
     "end_time": "2021-02-08T16:16:28.252142",
     "exception": false,
     "start_time": "2021-02-08T16:16:28.147632",
     "status": "completed"
    },
    "tags": []
   },
   "outputs": [
    {
     "data": {
      "text/plain": [
       "60"
      ]
     },
     "execution_count": 22,
     "metadata": {},
     "output_type": "execute_result"
    }
   ],
   "source": [
    "del se_train, se_test, censo_train, censo_test\n",
    "gc.collect()"
   ]
  },
  {
   "cell_type": "code",
   "execution_count": 23,
   "metadata": {
    "execution": {
     "iopub.execute_input": "2021-02-08T16:16:28.309758Z",
     "iopub.status.busy": "2021-02-08T16:16:28.309021Z",
     "iopub.status.idle": "2021-02-08T16:16:28.313108Z",
     "shell.execute_reply": "2021-02-08T16:16:28.312575Z"
    },
    "papermill": {
     "duration": 0.035493,
     "end_time": "2021-02-08T16:16:28.313247",
     "exception": false,
     "start_time": "2021-02-08T16:16:28.277754",
     "status": "completed"
    },
    "tags": []
   },
   "outputs": [
    {
     "name": "stdout",
     "output_type": "stream",
     "text": [
      "Train Columns: 618 - Test Columns: 618\n"
     ]
    }
   ],
   "source": [
    "print('Train Columns:', len(set(train.columns)), '- Test Columns:', len(set(test.columns)))"
   ]
  },
  {
   "cell_type": "markdown",
   "metadata": {
    "papermill": {
     "duration": 0.025827,
     "end_time": "2021-02-08T16:16:28.365553",
     "exception": false,
     "start_time": "2021-02-08T16:16:28.339726",
     "status": "completed"
    },
    "tags": []
   },
   "source": [
    "### Genero Output"
   ]
  },
  {
   "cell_type": "code",
   "execution_count": 24,
   "metadata": {
    "execution": {
     "iopub.execute_input": "2021-02-08T16:16:28.425499Z",
     "iopub.status.busy": "2021-02-08T16:16:28.424797Z",
     "iopub.status.idle": "2021-02-08T16:40:27.591262Z",
     "shell.execute_reply": "2021-02-08T16:40:27.590438Z"
    },
    "papermill": {
     "duration": 1439.19922,
     "end_time": "2021-02-08T16:40:27.591429",
     "exception": false,
     "start_time": "2021-02-08T16:16:28.392209",
     "status": "completed"
    },
    "tags": []
   },
   "outputs": [],
   "source": [
    "train.to_csv('train-v20.gz', compression = 'gzip')\n",
    "test.to_csv('test-v20.gz', compression = 'gzip')"
   ]
  }
 ],
 "metadata": {
  "kernelspec": {
   "display_name": "Python 3",
   "language": "python",
   "name": "python3"
  },
  "language_info": {
   "codemirror_mode": {
    "name": "ipython",
    "version": 3
   },
   "file_extension": ".py",
   "mimetype": "text/x-python",
   "name": "python",
   "nbconvert_exporter": "python",
   "pygments_lexer": "ipython3",
   "version": "3.7.6"
  },
  "papermill": {
   "duration": 6178.870732,
   "end_time": "2021-02-08T16:40:27.726330",
   "environment_variables": {},
   "exception": null,
   "input_path": "__notebook__.ipynb",
   "output_path": "__notebook__.ipynb",
   "parameters": {},
   "start_time": "2021-02-08T14:57:28.855598",
   "version": "2.1.0"
  }
 },
 "nbformat": 4,
 "nbformat_minor": 4
}
